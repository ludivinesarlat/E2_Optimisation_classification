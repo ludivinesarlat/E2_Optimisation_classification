{
 "cells": [
  {
   "cell_type": "code",
   "execution_count": 1,
   "metadata": {},
   "outputs": [],
   "source": [
    "import urllib\n",
    "import bs4\n",
    "import re\n",
    "import pandas as pd\n",
    "from urllib import request\n",
    "import datetime\n",
    "import time\n",
    "import re\n",
    "import codecs"
   ]
  },
  {
   "cell_type": "code",
   "execution_count": 9,
   "metadata": {},
   "outputs": [
    {
     "name": "stdout",
     "output_type": "stream",
     "text": [
      "61\n"
     ]
    },
    {
     "data": {
      "text/plain": [
       "['2020/11/30']"
      ]
     },
     "execution_count": 9,
     "metadata": {},
     "output_type": "execute_result"
    }
   ],
   "source": [
    "## création d\"une liste de dates \n",
    "liste_dates=[]\n",
    "j = datetime.date(2020, 11, 30)\n",
    "while j >= datetime.date(2020, 10, 1):\n",
    "    liste_dates.append(str(j.strftime(\"%Y/%m/%d\")))\n",
    "    j = j + datetime.timedelta(days=-1)\n",
    "print(len(liste_dates))\n",
    "liste_dates[:1]"
   ]
  },
  {
   "cell_type": "code",
   "execution_count": 10,
   "metadata": {
    "scrolled": false
   },
   "outputs": [
    {
     "data": {
      "text/plain": [
       "3014"
      ]
     },
     "execution_count": 10,
     "metadata": {},
     "output_type": "execute_result"
    }
   ],
   "source": [
    "# création de 2 listes l'une contient les articles, l'autre le jour de publication.\n",
    "liste_titres = []\n",
    "liste_jour_publication = []\n",
    "liste_categorie =[]\n",
    "liste_auteurs =[]\n",
    "df_row = pd.DataFrame()\n",
    "for d in liste_dates:\n",
    "    ## exploration des pages internet en ajoutant la date à un début d'url\n",
    "    status = 999\n",
    "    compt = 1\n",
    "    while status != 404:\n",
    "        try:\n",
    "            page_explorée = \"https://www.lexpress.fr/archives/\" + str(d)\n",
    "            req_1 = urllib.request.Request(page_explorée,headers={'User-Agent': 'Mozilla/5.0'})\n",
    "            request_text = request.urlopen(req_1).read()\n",
    "            page = bs4.BeautifulSoup(request_text, \"lxml\")\n",
    "            for titre in page.findAll(\"h3\", {'class' : \"title_mu\"}):\n",
    "                t = titre.get_text()\n",
    "                liste_titres.append(t)\n",
    "            for categorie in page.findAll(\"span\", {'class' : \"topic\"}):\n",
    "                cat = categorie.get_text()\n",
    "                if len(cat)==0:\n",
    "                    cat = ['']\n",
    "                liste_categorie.append(cat)\n",
    "                liste_jour_publication.append(d)   \n",
    "            for group in page.findAll(\"div\", {'class':\"groups search_results\"}):\n",
    "                for url in group.findAll(\"a\"):\n",
    "                    url_article = url['href']\n",
    "                    url_2 =\"https:\"+ url_article\n",
    "                    req_2 = urllib.request.Request(url_2,headers={'User-Agent': 'Mozilla/5.0'})\n",
    "                    request_text2 = request.urlopen(req_2).read()\n",
    "                    page_article = bs4.BeautifulSoup(request_text2, \"lxml\")\n",
    "                    tit=''\n",
    "                    s=''\n",
    "                    for div in page_article.findAll(\"div\",{'class':\"author__name\"}):\n",
    "                        for sp in div.findAll('span'):\n",
    "                            for s in sp.findAll('span')[0]:\n",
    "                                liste_auteurs.append(s) # ajout de la liste d'auteur associé à l'article    \n",
    "\n",
    "            compt+=1  \n",
    "        except Exception as e:\n",
    "            status = 404\n",
    "len(liste_titres)"
   ]
  },
  {
   "cell_type": "code",
   "execution_count": 11,
   "metadata": {},
   "outputs": [
    {
     "name": "stdout",
     "output_type": "stream",
     "text": [
      "3014\n",
      "3014\n",
      "3014\n",
      "55\n"
     ]
    }
   ],
   "source": [
    "print(len(liste_titres))\n",
    "print(len(liste_categorie))\n",
    "print(len(liste_jour_publication))\n",
    "print(len(liste_auteurs))"
   ]
  },
  {
   "cell_type": "code",
   "execution_count": 12,
   "metadata": {},
   "outputs": [
    {
     "data": {
      "text/html": [
       "<div>\n",
       "<style scoped>\n",
       "    .dataframe tbody tr th:only-of-type {\n",
       "        vertical-align: middle;\n",
       "    }\n",
       "\n",
       "    .dataframe tbody tr th {\n",
       "        vertical-align: top;\n",
       "    }\n",
       "\n",
       "    .dataframe thead th {\n",
       "        text-align: right;\n",
       "    }\n",
       "</style>\n",
       "<table border=\"1\" class=\"dataframe\">\n",
       "  <thead>\n",
       "    <tr style=\"text-align: right;\">\n",
       "      <th></th>\n",
       "      <th>titre</th>\n",
       "      <th>jour_publication</th>\n",
       "      <th>categorie</th>\n",
       "    </tr>\n",
       "  </thead>\n",
       "  <tbody>\n",
       "    <tr>\n",
       "      <th>0</th>\n",
       "      <td>Algérie: le président Tebboune va rentrer \"dan...</td>\n",
       "      <td>2020/11/30</td>\n",
       "      <td>Monde</td>\n",
       "    </tr>\n",
       "    <tr>\n",
       "      <th>1</th>\n",
       "      <td>Affaire des \"écoutes\": Sarkozy dénonce des \"in...</td>\n",
       "      <td>2020/11/30</td>\n",
       "      <td>Société</td>\n",
       "    </tr>\n",
       "    <tr>\n",
       "      <th>2</th>\n",
       "      <td>Vaccin Covid-19: les autorités sanitaires pose...</td>\n",
       "      <td>2020/11/30</td>\n",
       "      <td>Société</td>\n",
       "    </tr>\n",
       "    <tr>\n",
       "      <th>3</th>\n",
       "      <td>La Cour suprême désarçonnée par la dernière re...</td>\n",
       "      <td>2020/11/30</td>\n",
       "      <td>Monde</td>\n",
       "    </tr>\n",
       "    <tr>\n",
       "      <th>4</th>\n",
       "      <td>Scientifique tué: une opération \"complexe\", l'...</td>\n",
       "      <td>2020/11/30</td>\n",
       "      <td>Monde</td>\n",
       "    </tr>\n",
       "    <tr>\n",
       "      <th>...</th>\n",
       "      <td>...</td>\n",
       "      <td>...</td>\n",
       "      <td>...</td>\n",
       "    </tr>\n",
       "    <tr>\n",
       "      <th>3009</th>\n",
       "      <td>Vers un 4e mandat pour le président LR du Séna...</td>\n",
       "      <td>2020/10/01</td>\n",
       "      <td>Actualité</td>\n",
       "    </tr>\n",
       "    <tr>\n",
       "      <th>3010</th>\n",
       "      <td>Le fonds Ardian, \"soutenu\" par Suez, \"intéress...</td>\n",
       "      <td>2020/10/01</td>\n",
       "      <td>Société</td>\n",
       "    </tr>\n",
       "    <tr>\n",
       "      <th>3011</th>\n",
       "      <td>Charlie Hebdo raconte ses 50 ans de lutte pour...</td>\n",
       "      <td>2020/10/01</td>\n",
       "      <td>Actualité</td>\n",
       "    </tr>\n",
       "    <tr>\n",
       "      <th>3012</th>\n",
       "      <td>Comment fonctionnent les pétitions citoyennes ...</td>\n",
       "      <td>2020/10/01</td>\n",
       "      <td>Politique</td>\n",
       "    </tr>\n",
       "    <tr>\n",
       "      <th>3013</th>\n",
       "      <td>Taxé de \"honte nationale\", Trump tente t'étein...</td>\n",
       "      <td>2020/10/01</td>\n",
       "      <td>Monde</td>\n",
       "    </tr>\n",
       "  </tbody>\n",
       "</table>\n",
       "<p>3014 rows × 3 columns</p>\n",
       "</div>"
      ],
      "text/plain": [
       "                                                  titre jour_publication  \\\n",
       "0     Algérie: le président Tebboune va rentrer \"dan...       2020/11/30   \n",
       "1     Affaire des \"écoutes\": Sarkozy dénonce des \"in...       2020/11/30   \n",
       "2     Vaccin Covid-19: les autorités sanitaires pose...       2020/11/30   \n",
       "3     La Cour suprême désarçonnée par la dernière re...       2020/11/30   \n",
       "4     Scientifique tué: une opération \"complexe\", l'...       2020/11/30   \n",
       "...                                                 ...              ...   \n",
       "3009  Vers un 4e mandat pour le président LR du Séna...       2020/10/01   \n",
       "3010  Le fonds Ardian, \"soutenu\" par Suez, \"intéress...       2020/10/01   \n",
       "3011  Charlie Hebdo raconte ses 50 ans de lutte pour...       2020/10/01   \n",
       "3012  Comment fonctionnent les pétitions citoyennes ...       2020/10/01   \n",
       "3013  Taxé de \"honte nationale\", Trump tente t'étein...       2020/10/01   \n",
       "\n",
       "      categorie  \n",
       "0         Monde  \n",
       "1       Société  \n",
       "2       Société  \n",
       "3         Monde  \n",
       "4         Monde  \n",
       "...         ...  \n",
       "3009  Actualité  \n",
       "3010    Société  \n",
       "3011  Actualité  \n",
       "3012  Politique  \n",
       "3013      Monde  \n",
       "\n",
       "[3014 rows x 3 columns]"
      ]
     },
     "execution_count": 12,
     "metadata": {},
     "output_type": "execute_result"
    }
   ],
   "source": [
    "df = pd.DataFrame({ 'titre':liste_titres,'jour_publication':liste_jour_publication,'categorie':liste_categorie})\n",
    "df"
   ]
  },
  {
   "cell_type": "code",
   "execution_count": 13,
   "metadata": {},
   "outputs": [],
   "source": [
    "df.to_csv('titres_Lexpress_oct_nov2020.csv')"
   ]
  }
 ],
 "metadata": {
  "kernelspec": {
   "display_name": "Python 3",
   "language": "python",
   "name": "python3"
  },
  "language_info": {
   "codemirror_mode": {
    "name": "ipython",
    "version": 3
   },
   "file_extension": ".py",
   "mimetype": "text/x-python",
   "name": "python",
   "nbconvert_exporter": "python",
   "pygments_lexer": "ipython3",
   "version": "3.7.6"
  }
 },
 "nbformat": 4,
 "nbformat_minor": 4
}
